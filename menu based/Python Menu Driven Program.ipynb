{
 "cells": [
  {
   "cell_type": "code",
   "execution_count": 6,
   "id": "6dea9911",
   "metadata": {},
   "outputs": [],
   "source": [
    "from gtts import gTTS\n",
    "\n",
    "def text_to_audio(text, output_file):\n",
    "    tts = gTTS(text)\n",
    "    tts.save(output_file)\n",
    "\n",
    "# Example usage:\n",
    "ms=input(\"Enter text:\")\n",
    "text_to_audio(ms, 'output.mp3')\n"
   ]
  },
  {
   "cell_type": "code",
   "execution_count": 10,
   "id": "63a97d7d",
   "metadata": {},
   "outputs": [
    {
     "name": "stdout",
     "output_type": "stream",
     "text": [
      "Your current GPS coordinates are:\n",
      "Latitude: 22.5626\n",
      "Longitude: 88.363\n"
     ]
    }
   ],
   "source": [
    "import geocoder\n",
    "\n",
    "def get_current_gps_coordinates():\n",
    "    g = geocoder.ip('me')#this function is used to find the current information using our IP Add\n",
    "    if g.latlng is not None: #g.latlng tells if the coordiates are found or not\n",
    "        return g.latlng\n",
    "    else:\n",
    "        return None\n",
    "\n",
    "if __name__ == \"__main__\":\n",
    "    coordinates = get_current_gps_coordinates()\n",
    "    if coordinates is not None:\n",
    "        latitude, longitude = coordinates\n",
    "        print(f\"Your current GPS coordinates are:\")\n",
    "        print(f\"Latitude: {latitude}\")\n",
    "        print(f\"Longitude: {longitude}\")\n",
    "    else:\n",
    "        print(\"Unable to retrieve your GPS coordinates.\")"
   ]
  },
  {
   "cell_type": "code",
   "execution_count": 12,
   "id": "9afba685",
   "metadata": {},
   "outputs": [],
   "source": [
    "from pycaw.pycaw import AudioUtilities, ISimpleAudioVolume\n",
    "\n",
    "def set_master_volume(volume):\n",
    "    sessions = AudioUtilities.GetAllSessions()\n",
    "    for session in sessions:\n",
    "        audio_volume = session._ctl.QueryInterface(ISimpleAudioVolume)\n",
    "        if session.Process and session.Process.name() == \"vlc.exe\":\n",
    "            audio_volume.SetMasterVolume(volume, None)\n",
    "\n",
    "if __name__ == \"__main__\":\n",
    "    v=float(input(\"Enter volume:\"))\n",
    "    set_master_volume(v)  # 0.0(0%) to 1.0(100%)\n"
   ]
  },
  {
   "cell_type": "code",
   "execution_count": 1,
   "id": "5aea9117",
   "metadata": {},
   "outputs": [],
   "source": [
    "from twilio.rest import Client\n",
    "\n",
    "\n",
    "def send_sms_twilio(message, recipient):\n",
    "    account_sid = 'Twilio_SID'\n",
    "    auth_token = 'AUTH_Token'\n",
    "    client = Client(account_sid, auth_token)\n",
    "\n",
    "    client.messages.create(body=message, from_='Twilio Phone no.', to=recipient)\n",
    "\n",
    "# Single SMS\n",
    "ms=input(\"Enter message:\")\n",
    "ph=input(\"Enter phone no.:\")\n",
    "send_sms_twilio(ms, ph)"
   ]
  },
  {
   "cell_type": "code",
   "execution_count": 5,
   "id": "a884ce17",
   "metadata": {},
   "outputs": [
    {
     "name": "stdout",
     "output_type": "stream",
     "text": [
      "Enter no. of times to send:2\n",
      "Enter Message:hi\n",
      "Enter phone number:+917980696314\n",
      "Enter Message:bye\n",
      "Enter phone number:+917980696314\n"
     ]
    }
   ],
   "source": [
    "#Bulk SMS\n",
    "n=int(input(\"Enter no. of times to send:\"))\n",
    "for i in range(n):\n",
    "    ms=input(\"Enter Message:\")\n",
    "    no=input(\"Enter phone number:\")\n",
    "    send_sms_twilio(ms, no)"
   ]
  },
  {
   "cell_type": "code",
   "execution_count": 2,
   "id": "667d38de",
   "metadata": {},
   "outputs": [
    {
     "name": "stdout",
     "output_type": "stream",
     "text": [
      "Enter search topic:How to tie a tie\n",
      "Enter no. of results required:5\n",
      "1. How to tie a tie EASY WAY (Slowly & Mirrored) Windsor knot\n",
      "2. How To Tie A Tie | The Easy Way - YouTube\n",
      "3. How to Tie a Tie: Easy Step-by-Step Guide & Video - The Knot\n",
      "4. How To Tie A Necktie | Different Ways Of Tying A Tie - Ties.com\n",
      "5. How to tie a tie - Quick and Easy - YouTube\n"
     ]
    }
   ],
   "source": [
    "import requests\n",
    "import bs4\n",
    "\n",
    "def scrape_google_results(query, num_results=5):\n",
    "    base_url = 'https://google.com/search?q='\n",
    "    search_url = base_url + query\n",
    "\n",
    "    # Fetch the URL data\n",
    "    request_result = requests.get(search_url)\n",
    "    soup = bs4.BeautifulSoup(request_result.text, 'html.parser')\n",
    "\n",
    "    # Find all major headings (usually h3 tags)\n",
    "    heading_objects = soup.find_all('h3')\n",
    "\n",
    "    # Print the top N search results\n",
    "    for i, info in enumerate(heading_objects[:num_results]):\n",
    "        print(f\"{i + 1}. {info.getText()}\")\n",
    "\n",
    "# Example usage:\n",
    "ss=input('Enter search topic:')\n",
    "n=int(input(\"Enter no. of results required:\"))\n",
    "scrape_google_results(ss, num_results=n)\n"
   ]
  },
  {
   "cell_type": "code",
   "execution_count": 2,
   "id": "bb376453",
   "metadata": {},
   "outputs": [],
   "source": [
    "import cv2\n",
    "import numpy as np\n",
    "def create_image():\n",
    "    # Create a white image (all pixels set to 255)\n",
    "    image = np.full((500, 500, 3), 255, dtype=np.uint8)\n",
    "\n",
    "    # Draw a black dog silhouette (for demonstration purposes)\n",
    "    # Replace this with your custom dog shape\n",
    "    cv2.circle(image, (250, 250), 100, (0, 0, 0), -1)  # Black circle for the dog's head\n",
    "\n",
    "    # Display the image\n",
    "    cv2.imshow(\"Custom Dog Image\", image)\n",
    "    cv2.waitKey(0)\n",
    "    cv2.destroyAllWindows()\n"
   ]
  },
  {
   "cell_type": "code",
   "execution_count": 10,
   "id": "7bb46449",
   "metadata": {},
   "outputs": [
    {
     "name": "stdout",
     "output_type": "stream",
     "text": [
      "Enter Message:hi\n",
      "Enter reciever mail:srinjoysur@gmail.com\n"
     ]
    }
   ],
   "source": [
    "#Python code For sending single emails\n",
    "import smtplib\n",
    "def send_single_mail():\n",
    "    # creates SMTP session\n",
    "    s = smtplib.SMTP('smtp.gmail.com', 587)\n",
    "\n",
    "    # start TLS for security\n",
    "    s.starttls()\n",
    "\n",
    "    # Authentication\n",
    "    s.login(\"Sender mail\", \"google Token\")\n",
    "\n",
    "    # message to be sent\n",
    "    message = input(\"Enter Message:\")\n",
    "    rmail=input(\"Enter reciever mail:\")\n",
    "    # sending the mail\n",
    "    s.sendmail(\"Sender mail\", rmail, message)\n",
    "\n",
    "    # terminating the session\n",
    "    s.quit()\n",
    "send_single_mail()"
   ]
  },
  {
   "cell_type": "code",
   "execution_count": 4,
   "id": "958c0b07",
   "metadata": {},
   "outputs": [
    {
     "name": "stdout",
     "output_type": "stream",
     "text": [
      "Enter the no. of mails to be sent:2\n",
      "Enter Message:Hi \n",
      "Enter reciever mail:srinjoysur@gmail.com\n",
      "Enter Message:hi\n",
      "Enter reciever mail:21052714@kiit.ac.in\n"
     ]
    },
    {
     "data": {
      "text/plain": [
       "(221,\n",
       " b'2.0.0 closing connection d2e1a72fcca58-70b7eb9e20fsm903433b3a.31 - gsmtp')"
      ]
     },
     "execution_count": 4,
     "metadata": {},
     "output_type": "execute_result"
    }
   ],
   "source": [
    "#Python code For sending Bulk emails\n",
    "import smtplib\n",
    "\n",
    "# creates SMTP session\n",
    "s = smtplib.SMTP('smtp.gmail.com', 587)\n",
    "\n",
    "# start TLS for security\n",
    "s.starttls()\n",
    "\n",
    "# Authentication\n",
    "s.login(\"Sender mail\", \"Google Passkey\")\n",
    "n=int(input(\"Enter the no. of mails to be sent:\"))\n",
    "for i in range(n):\n",
    "    # message to be sent\n",
    "    message = input(\"Enter Message:\")\n",
    "    rmail=input(\"Enter reciever mail:\")\n",
    "    # sending the mail\n",
    "    s.sendmail(\"Sender mail\", rmail, message)\n",
    "\n",
    "# terminating the session\n",
    "s.quit()"
   ]
  },
  {
   "cell_type": "code",
   "execution_count": 3,
   "id": "c783317f",
   "metadata": {},
   "outputs": [
    {
     "name": "stdout",
     "output_type": "stream",
     "text": [
      "Enter phone no.(with country code):+919830174826\n",
      "Enter message:HI\n",
      "Enter hour of delivery:15\n",
      "Enter min of delivery:12\n",
      "In 64 Seconds WhatsApp will open and after 15 Seconds Message will be Delivered!\n"
     ]
    }
   ],
   "source": [
    "import pywhatkit\n",
    "#connects to your mobile whatsapp and sends message\n",
    "no=input(\"Enter phone no.(with country code):\")\n",
    "message=input(\"Enter message:\")\n",
    "Hr=int(input(\"Enter hour of delivery:\"))\n",
    "m=int(input(\"Enter min of delivery:\"))\n",
    "\n",
    "pywhatkit.sendwhatmsg(no,message,Hr,m)"
   ]
  },
  {
   "cell_type": "code",
   "execution_count": 8,
   "id": "2fda2061",
   "metadata": {},
   "outputs": [
    {
     "name": "stdout",
     "output_type": "stream",
     "text": [
      "********Python Menu Program********\n",
      "\n",
      "1.Send Email message using python code\n",
      "2.Send SMS message using python code\n",
      "2. Scrap top5 search results from google using the python code\n",
      "3.Find the current geo coordinates and location using the Python code \n",
      "4.Convert text-to-audio using the python code\n",
      "5.Control volume of you laptop using python.\n",
      "6.Connect to your mobile and send sms from your mobile messaging app using python.\n",
      "7.Create a function to Send bulk email using python.\n",
      "8.Create a function to Send bulk email using python.\n",
      "Enter your choice:1\n",
      "1\n",
      "Enter your choice:2\n",
      "Enter your choice:0\n"
     ]
    }
   ],
   "source": [
    "#Python Menu Program:\n",
    "print('********Python Menu Program********')\n",
    "print(\"\\n1.Send Single Email message\\n2.Send SMS Single message\\n3. Scrap top5 search results from google\\n4.Find the current geo coordinates and location of system\\n5.Convert text-to-audio\\n6.Control volume of you laptop.\\n7.Connect to your mobile and send sms from your mobile messaging app\\n8.Send bulk email\\n9.Send bulk SMS.\\9.Exit.....\")\n",
    "while True:\n",
    "    ch=int(input(\"Enter your choice:\"))\n",
    "    if(ch==1):\n",
    "        send_single_mail()\n",
    "    elif(ch==2):\n",
    "        ms=input(\"Enter message:\")\n",
    "        ph=input(\"Enter phone no.:\")\n",
    "        send_sms_twilio(ms, ph)\n",
    "    elif(ch==3):\n",
    "        ss=input('Enter search topic:')\n",
    "        n=int(input(\"Enter no. of results required:\"))\n",
    "        scrape_google_results(ss, num_results=n)\n",
    "    elif(ch==4):\n",
    "        coordinates = get_current_gps_coordinates()\n",
    "        if coordinates is not None:\n",
    "            latitude, longitude = coordinates\n",
    "            print(f\"Your current GPS coordinates are:\")\n",
    "            print(f\"Latitude: {latitude}\")\n",
    "            print(f\"Longitude: {longitude}\")\n",
    "        else:\n",
    "            print(\"Unable to retrieve your GPS coordinates.\")\n",
    "    elif(ch==5):\n",
    "        ms=input(\"Enter text:\")\n",
    "        text_to_audio(ms, 'output.mp3')\n",
    "    elif(ch==6):\n",
    "        v=float(input(\"Enter volume:\"))\n",
    "        set_master_volume(v)\n",
    "    elif(ch==7):\n",
    "        no=input(\"Enter phone no.(with country code):\")\n",
    "        message=input(\"Enter message:\")\n",
    "        Hr=int(input(\"Enter hour of delivery:\"))\n",
    "        m=int(input(\"Enter min of delivery:\"))\n",
    "        pywhatkit.sendwhatmsg(no,message,Hr,m)\n",
    "    elif(ch==8):\n",
    "        s = smtplib.SMTP('smtp.gmail.com', 587)\n",
    "\n",
    "        # start TLS for security\n",
    "        s.starttls()\n",
    "\n",
    "        # Authentication\n",
    "        s.login(\"Sender mail\", \"Google Passkey\")\n",
    "        n=int(input(\"Enter the no. of mails to be sent:\"))\n",
    "        for i in range(n):\n",
    "            # message to be sent\n",
    "            message = input(\"Enter Message:\")\n",
    "            rmail=input(\"Enter reciever mail:\")\n",
    "            # sending the mail\n",
    "            s.sendmail(\"Sender mail\", rmail, message)\n",
    "        # terminating the session\n",
    "        s.quit()\n",
    "    elif(ch==9):\n",
    "        n=int(input(\"Enter no. of times to send:\"))\n",
    "        for i in range(n):\n",
    "            ms=input(\"Enter Message:\")\n",
    "            no=input(\"Enter phone number:\")\n",
    "            send_sms_twilio(ms, no)\n",
    "    elif(ch==0):\n",
    "        break\n"
   ]
  },
  {
   "cell_type": "code",
   "execution_count": null,
   "id": "03cd1843",
   "metadata": {},
   "outputs": [],
   "source": []
  }
 ],
 "metadata": {
  "kernelspec": {
   "display_name": "Python 3 (ipykernel)",
   "language": "python",
   "name": "python3"
  },
  "language_info": {
   "codemirror_mode": {
    "name": "ipython",
    "version": 3
   },
   "file_extension": ".py",
   "mimetype": "text/x-python",
   "name": "python",
   "nbconvert_exporter": "python",
   "pygments_lexer": "ipython3",
   "version": "3.10.9"
  }
 },
 "nbformat": 4,
 "nbformat_minor": 5
}
